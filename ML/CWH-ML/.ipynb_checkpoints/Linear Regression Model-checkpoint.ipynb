{
 "cells": [
  {
   "cell_type": "markdown",
   "id": "ddb8ac61",
   "metadata": {},
   "source": [
    "<FONT COLOR = 'BLUE'>**Importing modules needed for linear regresssion model**</FONT>"
   ]
  },
  {
   "cell_type": "code",
   "execution_count": 2,
   "id": "6e419444",
   "metadata": {},
   "outputs": [],
   "source": [
    "import numpy as np\n",
    "import matplotlib.pyplot as plt\n",
    "from sklearn import datasets, linear_model\n",
    "from sklearn.metrics import mean_squared_error"
   ]
  },
  {
   "cell_type": "markdown",
   "id": "63dfb70c",
   "metadata": {},
   "source": [
    "*Using daibetes dataset to determine how much diabetic a person is and then calculating the squared mean error*"
   ]
  },
  {
   "cell_type": "code",
   "execution_count": 3,
   "id": "2c7dd327",
   "metadata": {},
   "outputs": [],
   "source": [
    "diabetes = datasets.load_diabetes()"
   ]
  },
  {
   "cell_type": "code",
   "execution_count": 4,
   "id": "9bc0b302",
   "metadata": {},
   "outputs": [
    {
     "name": "stdout",
     "output_type": "stream",
     "text": [
      "<class 'sklearn.utils.Bunch'>\n"
     ]
    }
   ],
   "source": [
    "print(type(diabetes))"
   ]
  },
  {
   "cell_type": "markdown",
   "id": "0ba2ea02",
   "metadata": {},
   "source": [
    "<font color = 'red'> **Linear Regression Model using SINGLE FEATURE or parameter** </font>\n",
    "<br>The data array's index 2 is considered as the only feature for this regression model"
   ]
  },
  {
   "cell_type": "code",
   "execution_count": 3,
   "id": "326a7bc7",
   "metadata": {},
   "outputs": [],
   "source": [
    "diabetes_X = diabetes.data[:, np.newaxis, 2]\n",
    "diabetes_X_train = diabetes_X[:-30]\n",
    "diabetes_X_test = diabetes_X[-30:]"
   ]
  },
  {
   "cell_type": "code",
   "execution_count": 4,
   "id": "b9738aac",
   "metadata": {},
   "outputs": [],
   "source": [
    "diabetes_Y_train = diabetes.target[:-30]\n",
    "diabetes_Y_test = diabetes.target[-30:]"
   ]
  },
  {
   "cell_type": "code",
   "execution_count": 5,
   "id": "9f96a622",
   "metadata": {
    "scrolled": true
   },
   "outputs": [
    {
     "data": {
      "text/plain": [
       "LinearRegression()"
      ]
     },
     "execution_count": 5,
     "metadata": {},
     "output_type": "execute_result"
    }
   ],
   "source": [
    "model = linear_model.LinearRegression()\n",
    "model.fit(diabetes_X_train, diabetes_Y_train)"
   ]
  },
  {
   "cell_type": "code",
   "execution_count": 6,
   "id": "c760f48e",
   "metadata": {},
   "outputs": [],
   "source": [
    "diabetes_Y_predicted = model.predict(diabetes_X_test)"
   ]
  },
  {
   "cell_type": "code",
   "execution_count": 7,
   "id": "d3aeaaad",
   "metadata": {},
   "outputs": [
    {
     "name": "stdout",
     "output_type": "stream",
     "text": [
      "Mean squared error is :  3035.0601152912686\n"
     ]
    }
   ],
   "source": [
    "print(\"Mean squared error is : \", mean_squared_error(diabetes_Y_predicted, diabetes_Y_test))"
   ]
  },
  {
   "cell_type": "code",
   "execution_count": null,
   "id": "e996c11a",
   "metadata": {},
   "outputs": [],
   "source": [
    "plt.scatter"
   ]
  },
  {
   "cell_type": "markdown",
   "id": "aef71b92",
   "metadata": {},
   "source": [
    "<font color = 'red'> **Linear Regression Model using MULTIPLE FEATURE or parameter** </font>"
   ]
  },
  {
   "cell_type": "code",
   "execution_count": null,
   "id": "003f9574",
   "metadata": {},
   "outputs": [],
   "source": [
    "diabetes_X = diabetes.data\n",
    "diabetes_X_train = diabetes_X[:-30]\n",
    "diabetes_X_test = diabetes_X[-30:]"
   ]
  },
  {
   "cell_type": "code",
   "execution_count": null,
   "id": "25dacb4b",
   "metadata": {},
   "outputs": [],
   "source": [
    "diabetes_Y_train = diabetes.target[:-30]\n",
    "diabetes_Y_test = diabetes.target[-30:]"
   ]
  },
  {
   "cell_type": "code",
   "execution_count": null,
   "id": "ebb8f461",
   "metadata": {},
   "outputs": [],
   "source": [
    "model = linear_model.LinearRegression()\n",
    "model.fit(diabetes_X_train, diabetes_Y_train)"
   ]
  },
  {
   "cell_type": "code",
   "execution_count": null,
   "id": "0c5fff14",
   "metadata": {},
   "outputs": [],
   "source": [
    "diabetes_Y_predicted = model.predict(diabetes_X_test)"
   ]
  },
  {
   "cell_type": "code",
   "execution_count": null,
   "id": "9dc3d429",
   "metadata": {},
   "outputs": [],
   "source": [
    "print(\"Mean squared error is : \", mean_squared_error(diabetes_Y_predicted, diabetes_Y_test))"
   ]
  }
 ],
 "metadata": {
  "kernelspec": {
   "display_name": "Python 3 (ipykernel)",
   "language": "python",
   "name": "python3"
  },
  "language_info": {
   "codemirror_mode": {
    "name": "ipython",
    "version": 3
   },
   "file_extension": ".py",
   "mimetype": "text/x-python",
   "name": "python",
   "nbconvert_exporter": "python",
   "pygments_lexer": "ipython3",
   "version": "3.9.12"
  }
 },
 "nbformat": 4,
 "nbformat_minor": 5
}
